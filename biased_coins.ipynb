{
 "cells": [
  {
   "cell_type": "markdown",
   "metadata": {},
   "source": [
    "### Generating the Biased Coins\n",
    "\n",
    "We use a binomial distribution for coin flips due to the binary nature of the problem:"
   ]
  },
  {
   "cell_type": "code",
   "execution_count": 1,
   "metadata": {},
   "outputs": [],
   "source": [
    "import numpy as np"
   ]
  },
  {
   "cell_type": "code",
   "execution_count": 2,
   "metadata": {},
   "outputs": [],
   "source": [
    "flips = 5000\n",
    "first_coin = np.random.binomial(1, .05, size=flips)\n",
    "second_coin = np.random.binomial(1, .02, size=flips)"
   ]
  },
  {
   "cell_type": "code",
   "execution_count": 3,
   "metadata": {},
   "outputs": [
    {
     "name": "stdout",
     "output_type": "stream",
     "text": [
      "Coin 1 drew heads 4.94% of the time \n",
      "Coin 2 drew heads 1.94% of the time\n"
     ]
    }
   ],
   "source": [
    "print(\"Coin 1 drew heads {}% of the time \\nCoin 2 drew heads {}% of the time\"\n",
    "     .format(sum(first_coin) * 100 / flips, sum(second_coin) * 100 /flips) )"
   ]
  },
  {
   "cell_type": "markdown",
   "metadata": {},
   "source": [
    "## Can we Conclude whether Coin 1 and Coin 2 are different?\n",
    "We can do a standard hypothsis test to determine whether we can say that $P(C1) = Heads \\ne P(C2)=Heads$. Our null hypothesis $H_0$ is that $P(C1) = P(C2)$ and our alternative hypothsis is that the probabilities differ. We will reject the null hypothesis if the p-value of our results is less than .05.\n",
    "\n",
    "We use Student's T-Test:\n",
    "\n",
    "$$  t = \\frac{\\bar {X}_1 - \\bar{X}_2}{\\sqrt{s_{X_1}^2+s_{X_2}^2} \\cdot \\sqrt{\\frac{1}{n}}} $$"
   ]
  },
  {
   "cell_type": "code",
   "execution_count": 4,
   "metadata": {},
   "outputs": [],
   "source": [
    "from scipy.stats import ttest_ind"
   ]
  },
  {
   "cell_type": "code",
   "execution_count": 5,
   "metadata": {},
   "outputs": [
    {
     "name": "stdout",
     "output_type": "stream",
     "text": [
      "T-statistic is: 8.257448484059715 The P-Value is: 1.676432610590747e-16\n"
     ]
    }
   ],
   "source": [
    "test = ttest_ind(first_coin, second_coin)\n",
    "print(\"T-statistic is:\", test.statistic, \"The P-Value is:\", test.pvalue)"
   ]
  },
  {
   "cell_type": "markdown",
   "metadata": {},
   "source": [
    "This is an extremely large T-Statistic and an extremely small p-value so we can say with a very large degree of confidence that the two coins have different probabilities of yielding heads so we reject the null hypothesis.\n",
    "\n",
    "#### Conclusion: 5000 coin flips is more than enough to determine that these 2 coins are different."
   ]
  }
 ],
 "metadata": {
  "kernelspec": {
   "display_name": "Python 3",
   "language": "python",
   "name": "python3"
  },
  "language_info": {
   "codemirror_mode": {
    "name": "ipython",
    "version": 3
   },
   "file_extension": ".py",
   "mimetype": "text/x-python",
   "name": "python",
   "nbconvert_exporter": "python",
   "pygments_lexer": "ipython3",
   "version": "3.7.0"
  }
 },
 "nbformat": 4,
 "nbformat_minor": 2
}
